{
 "cells": [
  {
   "cell_type": "code",
   "execution_count": 7,
   "metadata": {},
   "outputs": [
    {
     "name": "stdin",
     "output_type": "stream",
     "text": [
      "Enter the number of jobs:  5\n",
      "Enter the profit of job 1:  50\n",
      "Enter the name of job 1:  A\n",
      "Enter the deadline of job 1:  2\n",
      "Enter the profit of job 2:  20\n",
      "Enter the name of job 2:  B\n",
      "Enter the deadline of job 2:  1\n",
      "Enter the profit of job 3:  80\n",
      "Enter the name of job 3:  C\n",
      "Enter the deadline of job 3:  3\n",
      "Enter the profit of job 4:  70\n",
      "Enter the name of job 4:  D\n",
      "Enter the deadline of job 4:  2\n",
      "Enter the profit of job 5:  30\n",
      "Enter the name of job 5:  E\n",
      "Enter the deadline of job 5:  1\n"
     ]
    },
    {
     "name": "stdout",
     "output_type": "stream",
     "text": [
      "Jobs scheduled: ['A', 'D', 'C', 'null', 'null']\n",
      "Total profit: 200\n"
     ]
    }
   ],
   "source": [
    "# Initialize empty lists for profit, jobs, and deadlines\n",
    "profit = []\n",
    "jobs = []\n",
    "deadline = []\n",
    "\n",
    "# Get the number of jobs from the user\n",
    "n = int(input(\"Enter the number of jobs: \"))\n",
    "\n",
    "# For each job, get the profit, name, and deadline from the user\n",
    "for i in range(n):\n",
    "    p = int(input(\"Enter the profit of job {}: \".format(i+1)))\n",
    "    profit.append(p)\n",
    "    j = input(\"Enter the name of job {}: \".format(i+1))\n",
    "    jobs.append(j)\n",
    "    d = int(input(\"Enter the deadline of job {}: \".format(i+1)))\n",
    "    deadline.append(d)\n",
    "\n",
    "# Combine the profit, jobs, and deadlines into a single list of tuples\n",
    "profitNJobs = list(zip(profit, jobs, deadline))\n",
    "\n",
    "# Sort the jobs in descending order of profit\n",
    "profitNJobs = sorted(profitNJobs, key=lambda x: x[0], reverse=True)\n",
    "\n",
    "# Initialize the slots for each job and the total profit\n",
    "slot = [0] * (n+1)\n",
    "profit = 0\n",
    "ans = ['null'] * (n+1)\n",
    "\n",
    "# For each job, starting from the highest profit job\n",
    "for i in range(n):\n",
    "    job = profitNJobs[i]\n",
    "    # Try to schedule the job at the latest possible slot\n",
    "    for j in range(job[2], 0, -1):\n",
    "        # If the slot is free, schedule the job\n",
    "        if slot[j] == 0:\n",
    "            ans[j] = job[1]\n",
    "            profit += job[0]\n",
    "            slot[j] = 1\n",
    "            break\n",
    "\n",
    "# Print the scheduled jobs and the total profit\n",
    "print(\"Jobs scheduled:\", ans[1:])\n",
    "print(\"Total profit:\", profit)\n"
   ]
  },
  {
   "cell_type": "code",
   "execution_count": null,
   "metadata": {},
   "outputs": [],
   "source": []
  }
 ],
 "metadata": {
  "kernelspec": {
   "display_name": "Python 3 (ipykernel)",
   "language": "python",
   "name": "python3"
  },
  "language_info": {
   "codemirror_mode": {
    "name": "ipython",
    "version": 3
   },
   "file_extension": ".py",
   "mimetype": "text/x-python",
   "name": "python",
   "nbconvert_exporter": "python",
   "pygments_lexer": "ipython3",
   "version": "3.12.1"
  }
 },
 "nbformat": 4,
 "nbformat_minor": 4
}
