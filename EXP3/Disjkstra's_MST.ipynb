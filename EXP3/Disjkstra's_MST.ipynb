{
 "cells": [
  {
   "cell_type": "code",
   "execution_count": 2,
   "id": "ee9036f4-fe8b-4402-829d-2fa4a2913cfd",
   "metadata": {},
   "outputs": [
    {
     "name": "stdin",
     "output_type": "stream",
     "text": [
      "Enter the number of vertices:  5\n"
     ]
    },
    {
     "name": "stdout",
     "output_type": "stream",
     "text": [
      "Enter the graph matrix:\n"
     ]
    },
    {
     "name": "stdin",
     "output_type": "stream",
     "text": [
      " 0 2 4 0 0\n",
      " 2 0 3 7 0\n",
      " 4 3 0 1 5\n",
      " 0 7 1 0 3\n",
      " 0 0 5 3 0\n",
      "Enter the source vertex:  0\n"
     ]
    },
    {
     "name": "stdout",
     "output_type": "stream",
     "text": [
      "Vertex \tDistance from Source\n",
      "0 \t 0\n",
      "1 \t 2\n",
      "2 \t 4\n",
      "3 \t 5\n",
      "4 \t 8\n"
     ]
    }
   ],
   "source": [
    "import sys\n",
    "\n",
    "class Graph:\n",
    "    def __init__(self, vertices):\n",
    "        self.V = vertices\n",
    "        self.graph = [[0 for column in range(vertices)] for row in range(vertices)]\n",
    "\n",
    "    def printSolution(self, dist):\n",
    "        print(\"Vertex \\tDistance from Source\")\n",
    "        for node in range(self.V):\n",
    "            print(node, \"\\t\", dist[node])\n",
    "\n",
    "    def minDistance(self, dist, sptSet):\n",
    "        min_dist = sys.maxsize\n",
    "        min_index = -1\n",
    "        for u in range(self.V):\n",
    "            if dist[u] < min_dist and not sptSet[u]:\n",
    "                min_dist = dist[u]\n",
    "                min_index = u\n",
    "        return min_index\n",
    "\n",
    "    def dijkstra(self, src):\n",
    "        dist = [sys.maxsize] * self.V\n",
    "        dist[src] = 0\n",
    "        sptSet = [False] * self.V\n",
    "        for _ in range(self.V):\n",
    "            x = self.minDistance(dist, sptSet)\n",
    "            sptSet[x] = True\n",
    "            for y in range(self.V):\n",
    "                if (\n",
    "                    self.graph[x][y] > 0\n",
    "                    and not sptSet[y]\n",
    "                    and dist[y] > dist[x] + self.graph[x][y]\n",
    "                ):\n",
    "                    dist[y] = dist[x] + self.graph[x][y]\n",
    "        self.printSolution(dist)\n",
    "\n",
    "if __name__ == \"__main__\":\n",
    "    vertices = int(input(\"Enter the number of vertices: \"))\n",
    "    graph = []\n",
    "    print(\"Enter the graph matrix:\")\n",
    "    for _ in range(vertices):\n",
    "        row = list(map(int, input().split()))\n",
    "        graph.append(row)\n",
    "    g = Graph(vertices)\n",
    "    g.graph = graph\n",
    "    src = int(input(\"Enter the source vertex: \"))\n",
    "    g.dijkstra(src)\n"
   ]
  },
  {
   "cell_type": "code",
   "execution_count": null,
   "id": "3da4fb6b-8bb4-42e5-84ad-a159520a5fa3",
   "metadata": {},
   "outputs": [],
   "source": []
  }
 ],
 "metadata": {
  "kernelspec": {
   "display_name": "Python 3 (ipykernel)",
   "language": "python",
   "name": "python3"
  },
  "language_info": {
   "codemirror_mode": {
    "name": "ipython",
    "version": 3
   },
   "file_extension": ".py",
   "mimetype": "text/x-python",
   "name": "python",
   "nbconvert_exporter": "python",
   "pygments_lexer": "ipython3",
   "version": "3.12.1"
  }
 },
 "nbformat": 4,
 "nbformat_minor": 5
}
