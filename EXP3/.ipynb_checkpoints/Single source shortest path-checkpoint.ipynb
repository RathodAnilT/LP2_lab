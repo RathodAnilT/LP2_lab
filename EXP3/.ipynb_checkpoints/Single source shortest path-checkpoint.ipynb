{
 "cells": [
  {
   "cell_type": "code",
   "execution_count": 1,
   "id": "01236e96-bd46-40ae-8a37-1732d05afd53",
   "metadata": {},
   "outputs": [
    {
     "name": "stdin",
     "output_type": "stream",
     "text": [
      "Enter the number of edges:  6\n",
      "Enter the edge (source destination weight):  A B 2\n",
      "Enter the edge (source destination weight):  A C 5\n",
      "Enter the edge (source destination weight):  B C 1\n",
      "Enter the edge (source destination weight):  B D 3\n",
      "Enter the edge (source destination weight):  C D 1\n",
      "Enter the edge (source destination weight):  D D 0\n",
      "Enter the source node:  A\n"
     ]
    },
    {
     "name": "stdout",
     "output_type": "stream",
     "text": [
      "{'A': 0, 'B': 2, 'C': 3, 'D': 4}\n"
     ]
    }
   ],
   "source": [
    "import sys\n",
    "\n",
    "def greedy_search(graph, source):\n",
    "    distances = {node: sys.maxsize for node in graph}\n",
    "    distances[source] = 0\n",
    "    unvisited = set(graph.keys())\n",
    "    \n",
    "    while unvisited:\n",
    "        current_node = min(unvisited, key=lambda node: distances[node])\n",
    "        unvisited.remove(current_node)\n",
    "        \n",
    "        for neighbor, weight in graph[current_node].items():\n",
    "            if neighbor in unvisited:\n",
    "                new_distance = distances[current_node] + weight\n",
    "                if new_distance < distances[neighbor]:\n",
    "                    distances[neighbor] = new_distance\n",
    "                    \n",
    "    return distances\n",
    "\n",
    "graph = {}\n",
    "n = int(input(\"Enter the number of edges: \"))\n",
    "\n",
    "for i in range(n):\n",
    "    edge = input(\"Enter the edge (source destination weight): \").split()\n",
    "    source, destination, weight = edge[0], edge[1], int(edge[2])\n",
    "    \n",
    "    if source not in graph:\n",
    "        graph[source] = {}\n",
    "    graph[source][destination] = weight\n",
    "\n",
    "source = input(\"Enter the source node: \")\n",
    "distances = greedy_search(graph, source)\n",
    "print(distances)\n"
   ]
  },
  {
   "cell_type": "code",
   "execution_count": null,
   "id": "f890354a-cb9f-4ef1-8297-f4040781767d",
   "metadata": {},
   "outputs": [],
   "source": []
  }
 ],
 "metadata": {
  "kernelspec": {
   "display_name": "Python 3 (ipykernel)",
   "language": "python",
   "name": "python3"
  },
  "language_info": {
   "codemirror_mode": {
    "name": "ipython",
    "version": 3
   },
   "file_extension": ".py",
   "mimetype": "text/x-python",
   "name": "python",
   "nbconvert_exporter": "python",
   "pygments_lexer": "ipython3",
   "version": "3.12.1"
  }
 },
 "nbformat": 4,
 "nbformat_minor": 5
}
