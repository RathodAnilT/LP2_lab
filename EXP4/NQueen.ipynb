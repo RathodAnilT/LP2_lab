{
 "cells": [
  {
   "cell_type": "code",
   "execution_count": 4,
   "id": "46b7e680-b750-43f7-b54f-3dcd333cbac8",
   "metadata": {},
   "outputs": [
    {
     "name": "stdin",
     "output_type": "stream",
     "text": [
      "Enter number of Queens :  5\n"
     ]
    },
    {
     "name": "stdout",
     "output_type": "stream",
     "text": [
      "1 0 0 0 0 \n",
      "0 0 1 0 0 \n",
      "0 0 0 0 1 \n",
      "0 1 0 0 0 \n",
      "0 0 0 1 0 \n"
     ]
    }
   ],
   "source": [
    "def issafe(arr,x,y,n):\n",
    "    for row in range(x):\n",
    "        if arr[row][y] ==1:\n",
    "            # Checking column attack\n",
    "            return False\n",
    "    row = x\n",
    "    col = y\n",
    "    #Checking Diagonal Attack\n",
    "    while row>=0 and col>=0:\n",
    "        if arr[row][col]==1:\n",
    "            return False\n",
    "        row-=1\n",
    "        col-=1\n",
    "\n",
    "    row = x\n",
    "    col = y\n",
    "    #Checking Anti Diagonal Attack\n",
    "    while row>=0 and col<n:\n",
    "        if arr[row][col]==1:\n",
    "            return False\n",
    "        row-=1\n",
    "        col+=1\n",
    "\n",
    "    return True\n",
    "\n",
    "def nQueen(arr,x,n):\n",
    "    if x>=n:\n",
    "        return True\n",
    "\n",
    "    for col in range(n):\n",
    "        if issafe(arr,x,col,n):\n",
    "            arr[x][col]=1\n",
    "            if nQueen(arr,x+1,n):\n",
    "                return True\n",
    "            arr[x][col] = 0\n",
    "\n",
    "    return False\n",
    "\n",
    "\n",
    "\n",
    "\n",
    "def main():\n",
    "    n = int(input(\"Enter number of Queens : \"))\n",
    "    arr = [[0]*n for i in range(n)]\n",
    "\n",
    "    if nQueen(arr,0,n):\n",
    "        for i in range(n):\n",
    "            for j in range(n):\n",
    "                print(arr[i][j],end=\" \")\n",
    "            print()\n",
    "\n",
    "if __name__ == '__main__':\n",
    "    main()"
   ]
  },
  {
   "cell_type": "code",
   "execution_count": null,
   "id": "643601ac-e760-4f29-a61d-ab671b4b71b4",
   "metadata": {},
   "outputs": [],
   "source": []
  }
 ],
 "metadata": {
  "kernelspec": {
   "display_name": "Python 3 (ipykernel)",
   "language": "python",
   "name": "python3"
  },
  "language_info": {
   "codemirror_mode": {
    "name": "ipython",
    "version": 3
   },
   "file_extension": ".py",
   "mimetype": "text/x-python",
   "name": "python",
   "nbconvert_exporter": "python",
   "pygments_lexer": "ipython3",
   "version": "3.12.1"
  }
 },
 "nbformat": 4,
 "nbformat_minor": 5
}
