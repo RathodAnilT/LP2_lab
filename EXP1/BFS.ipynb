{
 "cells": [
  {
   "cell_type": "code",
   "execution_count": 3,
   "id": "6a9c4481-b374-46b6-adf5-db945feb01fa",
   "metadata": {},
   "outputs": [
    {
     "name": "stdin",
     "output_type": "stream",
     "text": [
      "Enter the number of edges:  3\n",
      "Enter edge (u v):  1 2\n",
      "Enter edge (u v):  2 3\n",
      "Enter edge (u v):  3 4\n",
      "Enter the start node for BFS:  2\n"
     ]
    },
    {
     "name": "stdout",
     "output_type": "stream",
     "text": [
      "Breadth First Search (BFS):\n",
      "2 1 3 4 "
     ]
    }
   ],
   "source": [
    "from collections import defaultdict, deque\n",
    "\n",
    "class Graph:\n",
    "    def __init__(self):\n",
    "        self.graph = defaultdict(list)\n",
    "\n",
    "    def add_edge(self, u, v):\n",
    "        self.graph[u].append(v)\n",
    "        self.graph[v].append(u)  # Add reverse edge for undirected graph\n",
    "\n",
    "    def bfs(self, start):\n",
    "        visited = set()\n",
    "        queue = deque([start])\n",
    "        visited.add(start)\n",
    "\n",
    "        while queue:\n",
    "            node = queue.popleft()\n",
    "            print(node, end=\" \")\n",
    "\n",
    "            for neighbor in self.graph[node]:\n",
    "                if neighbor not in visited:\n",
    "                    queue.append(neighbor)\n",
    "                    visited.add(neighbor)\n",
    "\n",
    "# Interactive input for graph\n",
    "graph = Graph()\n",
    "num_edges = int(input(\"Enter the number of edges: \"))\n",
    "\n",
    "for _ in range(num_edges):\n",
    "    u, v = map(int, input(\"Enter edge (u v): \").split())\n",
    "    graph.add_edge(u, v)\n",
    "\n",
    "start_node = int(input(\"Enter the start node for BFS: \").strip())\n",
    "print(\"Breadth First Search (BFS):\")\n",
    "graph.bfs(start_node)\n"
   ]
  },
  {
   "cell_type": "code",
   "execution_count": null,
   "id": "c5e05ba6-804f-42ac-9438-2079e63e0926",
   "metadata": {},
   "outputs": [],
   "source": []
  }
 ],
 "metadata": {
  "kernelspec": {
   "display_name": "Python 3 (ipykernel)",
   "language": "python",
   "name": "python3"
  },
  "language_info": {
   "codemirror_mode": {
    "name": "ipython",
    "version": 3
   },
   "file_extension": ".py",
   "mimetype": "text/x-python",
   "name": "python",
   "nbconvert_exporter": "python",
   "pygments_lexer": "ipython3",
   "version": "3.12.1"
  }
 },
 "nbformat": 4,
 "nbformat_minor": 5
}
