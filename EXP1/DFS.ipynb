{
 "cells": [
  {
   "cell_type": "code",
   "execution_count": 4,
   "id": "f3e6a85a-e60d-4a0a-ac9c-10a16fb5383a",
   "metadata": {},
   "outputs": [
    {
     "name": "stdin",
     "output_type": "stream",
     "text": [
      "Enter the number of edges:  3\n",
      "Enter edge (u v):  3 4\n",
      "Enter edge (u v):  4 3\n",
      "Enter edge (u v):  5 6\n",
      "Enter the start node for DFS:  3\n"
     ]
    },
    {
     "name": "stdout",
     "output_type": "stream",
     "text": [
      "Depth First Search (DFS):\n",
      "3 4 "
     ]
    }
   ],
   "source": [
    "class Graph:\n",
    "    def __init__(self):\n",
    "        self.graph = {}\n",
    "\n",
    "    def add_edge(self, u, v):\n",
    "        if u not in self.graph:\n",
    "            self.graph[u] = []\n",
    "        self.graph[u].append(v)\n",
    "\n",
    "    def dfs_util(self, v, visited):\n",
    "        visited.add(v)\n",
    "        print(v, end=\" \")\n",
    "\n",
    "        for neighbor in self.graph[v]:\n",
    "            if neighbor not in visited:\n",
    "                self.dfs_util(neighbor, visited)\n",
    "\n",
    "    def dfs(self, start):\n",
    "        visited = set()\n",
    "        self.dfs_util(start, visited)\n",
    "\n",
    "# Interactive input for graph\n",
    "graph = Graph()\n",
    "num_edges = int(input(\"Enter the number of edges: \"))\n",
    "\n",
    "for _ in range(num_edges):\n",
    "    u, v = map(int, input(\"Enter edge (u v): \").split())\n",
    "    graph.add_edge(u, v)\n",
    "\n",
    "start_node = int(input(\"Enter the start node for DFS: \").strip())\n",
    "print(\"Depth First Search (DFS):\")\n",
    "graph.dfs(start_node)\n"
   ]
  },
  {
   "cell_type": "code",
   "execution_count": null,
   "id": "8becc820-42c3-4691-8f24-166905b6ce29",
   "metadata": {},
   "outputs": [],
   "source": []
  }
 ],
 "metadata": {
  "kernelspec": {
   "display_name": "Python 3 (ipykernel)",
   "language": "python",
   "name": "python3"
  },
  "language_info": {
   "codemirror_mode": {
    "name": "ipython",
    "version": 3
   },
   "file_extension": ".py",
   "mimetype": "text/x-python",
   "name": "python",
   "nbconvert_exporter": "python",
   "pygments_lexer": "ipython3",
   "version": "3.12.1"
  }
 },
 "nbformat": 4,
 "nbformat_minor": 5
}
